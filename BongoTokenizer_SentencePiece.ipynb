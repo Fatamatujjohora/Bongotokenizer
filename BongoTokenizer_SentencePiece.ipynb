{
  "nbformat": 4,
  "nbformat_minor": 0,
  "metadata": {
    "colab": {
      "provenance": []
    },
    "kernelspec": {
      "name": "python3",
      "display_name": "Python 3"
    },
    "language_info": {
      "name": "python"
    }
  },
  "cells": [
    {
      "cell_type": "code",
      "execution_count": null,
      "metadata": {
        "colab": {
          "base_uri": "https://localhost:8080/"
        },
        "id": "x_wX4POkNlPi",
        "outputId": "e192c310-1d5e-44a3-bb2c-cf922a1701ba"
      },
      "outputs": [
        {
          "output_type": "stream",
          "name": "stdout",
          "text": [
            "Mounted at /content/drive\n"
          ]
        }
      ],
      "source": [
        "from google.colab import drive\n",
        "import os\n",
        "\n",
        "drive.mount('/content/drive')"
      ]
    },
    {
      "cell_type": "code",
      "source": [
        "cd drive/MyDrive/Tokenizer"
      ],
      "metadata": {
        "colab": {
          "base_uri": "https://localhost:8080/"
        },
        "id": "VgrPdEnUORAk",
        "outputId": "2bd086c1-230b-4916-c880-fbfc60e293b5"
      },
      "execution_count": null,
      "outputs": [
        {
          "output_type": "stream",
          "name": "stdout",
          "text": [
            "/content/drive/MyDrive/Tokenizer\n"
          ]
        }
      ]
    },
    {
      "cell_type": "code",
      "source": [
        "!pip install sentencepiece"
      ],
      "metadata": {
        "colab": {
          "base_uri": "https://localhost:8080/"
        },
        "id": "AUqEKbLjOhfd",
        "outputId": "1535857a-dbd3-4c2f-8932-9adfdbae53ca"
      },
      "execution_count": null,
      "outputs": [
        {
          "output_type": "stream",
          "name": "stdout",
          "text": [
            "Collecting sentencepiece\n",
            "  Downloading sentencepiece-0.1.99-cp310-cp310-manylinux_2_17_x86_64.manylinux2014_x86_64.whl (1.3 MB)\n",
            "\u001b[2K     \u001b[90m━━━━━━━━━━━━━━━━━━━━━━━━━━━━━━━━━━━━━━━━\u001b[0m \u001b[32m1.3/1.3 MB\u001b[0m \u001b[31m8.6 MB/s\u001b[0m eta \u001b[36m0:00:00\u001b[0m\n",
            "\u001b[?25hInstalling collected packages: sentencepiece\n",
            "Successfully installed sentencepiece-0.1.99\n"
          ]
        }
      ]
    },
    {
      "cell_type": "code",
      "source": [
        "ls"
      ],
      "metadata": {
        "colab": {
          "base_uri": "https://localhost:8080/"
        },
        "id": "8EKWCu14V8gF",
        "outputId": "f94b5a24-cc94-4713-9f4e-c974ad2810a4"
      },
      "execution_count": null,
      "outputs": [
        {
          "output_type": "stream",
          "name": "stdout",
          "text": [
            "\u001b[0m\u001b[01;34mdrive\u001b[0m/  \u001b[01;34msample_data\u001b[0m/\n"
          ]
        }
      ]
    },
    {
      "cell_type": "code",
      "source": [
        "import sentencepiece as bsp\n",
        "import datetime\n",
        "\n",
        "start = datetime.datetime.now()\n",
        "print(\"Program start datetime : \")\n",
        "print(start.strftime(\"%Y-%m-%d %H:%M:%S\"))\n",
        "\n",
        "train_args = (\n",
        "            \"--model_prefix=\"\n",
        "            + \"bongo_combined\"\n",
        "            + \" --input=\"\n",
        "            + \"wiki_novels_combined.txt\"\n",
        "            + \" --vocab_size=\"\n",
        "            + str(30000)\n",
        "        )\n",
        "bsp.SentencePieceTrainer.train(train_args)\n",
        "\n",
        "end = datetime.datetime.now()\n",
        "print(\"Program start datetime : \")\n",
        "print(end.strftime(\"%Y-%m-%d %H:%M:%S\"))\n",
        "\n",
        "print(\"Total Seconds: \", (end - start).total_seconds())"
      ],
      "metadata": {
        "id": "7TlLrGKOOpn_"
      },
      "execution_count": null,
      "outputs": []
    },
    {
      "cell_type": "code",
      "source": [
        "import sentencepiece as bsp\n",
        "\n",
        "model = bsp.SentencePieceProcessor()\n",
        "model.Load('bongo_combined.model')"
      ],
      "metadata": {
        "colab": {
          "base_uri": "https://localhost:8080/"
        },
        "id": "yccK21BWTxtk",
        "outputId": "fb8c01f0-6880-49ec-87a0-c52084a1a937"
      },
      "execution_count": null,
      "outputs": [
        {
          "output_type": "execute_result",
          "data": {
            "text/plain": [
              "True"
            ]
          },
          "metadata": {},
          "execution_count": 4
        }
      ]
    },
    {
      "cell_type": "code",
      "source": [
        "model.EncodeAsPieces('বগুড়ায় জাতীয় লিগে দ্বিতীয় স্তরের ম্যাচে ঢাকা মেট্রোপলিসের হয়ে সেঞ্চুরি পেয়েছেন মাহমুদউল্লাহ।')"
      ],
      "metadata": {
        "colab": {
          "base_uri": "https://localhost:8080/"
        },
        "id": "wgwW9xUZT6MO",
        "outputId": "fd7ab8ec-549d-4515-e272-7ab465b6319c"
      },
      "execution_count": null,
      "outputs": [
        {
          "output_type": "execute_result",
          "data": {
            "text/plain": [
              "['▁বগুড়া',\n",
              " 'য়',\n",
              " '▁জাতীয়',\n",
              " '▁লিগে',\n",
              " '▁দ্বিতীয়',\n",
              " '▁স্তরের',\n",
              " '▁ম্যাচে',\n",
              " '▁ঢাকা',\n",
              " '▁মেট্রো',\n",
              " 'পলিস',\n",
              " 'ের',\n",
              " '▁হয়ে',\n",
              " '▁সেঞ্চুরি',\n",
              " '▁পেয়েছেন',\n",
              " '▁মাহমুদ',\n",
              " 'উল্লাহ',\n",
              " '।']"
            ]
          },
          "metadata": {},
          "execution_count": 8
        }
      ]
    },
    {
      "cell_type": "code",
      "source": [
        "model.EncodeAsPieces('রংপুর জেলার আঞ্চলিক ভাষার উদাহরণঃ এ্যাকনা মাইনসের দুকনা ব্যাটা আছিল। তার ছোটোকোনা উয়ার বাপকে কইল,বা,মোর পইসা কড়ির ভাগ মোক দেও। ওই কতাতে তাঁয় উমার ঘরক সব বাটি দিল।')"
      ],
      "metadata": {
        "colab": {
          "base_uri": "https://localhost:8080/"
        },
        "id": "mav42t8hUM1b",
        "outputId": "003b5c11-424b-4c04-90b3-29de07707172"
      },
      "execution_count": null,
      "outputs": [
        {
          "output_type": "execute_result",
          "data": {
            "text/plain": [
              "['▁রংপুর',\n",
              " '▁জেলার',\n",
              " '▁আঞ্চলিক',\n",
              " '▁ভাষার',\n",
              " '▁উদাহরণ',\n",
              " 'ঃ',\n",
              " '▁এ্যা',\n",
              " 'ক',\n",
              " 'না',\n",
              " '▁মাইন',\n",
              " 'সের',\n",
              " '▁দু',\n",
              " 'ক',\n",
              " 'না',\n",
              " '▁ব্যাটা',\n",
              " '▁আছি',\n",
              " 'ল',\n",
              " '।',\n",
              " '▁তার',\n",
              " '▁ছোটো',\n",
              " 'কোনা',\n",
              " '▁উ',\n",
              " 'য়ার',\n",
              " '▁বা',\n",
              " 'প',\n",
              " 'কে',\n",
              " '▁ক',\n",
              " 'ইল',\n",
              " ',',\n",
              " 'বা',\n",
              " ',',\n",
              " 'মোর',\n",
              " '▁প',\n",
              " 'ই',\n",
              " 'সা',\n",
              " '▁কড়ি',\n",
              " 'র',\n",
              " '▁ভাগ',\n",
              " '▁মো',\n",
              " 'ক',\n",
              " '▁দেও',\n",
              " '।',\n",
              " '▁ওই',\n",
              " '▁কত',\n",
              " 'াতে',\n",
              " '▁তা',\n",
              " 'ঁ',\n",
              " 'য়',\n",
              " '▁উমা',\n",
              " 'র',\n",
              " '▁ঘর',\n",
              " 'ক',\n",
              " '▁সব',\n",
              " '▁বা',\n",
              " 'টি',\n",
              " '▁দিল',\n",
              " '।']"
            ]
          },
          "metadata": {},
          "execution_count": 5
        }
      ]
    },
    {
      "cell_type": "code",
      "source": [
        "model.EncodeAsPieces('মধুপুরের খবর পেলে কীভাবে? স্বপ্নে')"
      ],
      "metadata": {
        "colab": {
          "base_uri": "https://localhost:8080/"
        },
        "id": "Q7_yaK90a1zc",
        "outputId": "49afdd27-cddb-463b-abbf-89a7d731eb26"
      },
      "execution_count": null,
      "outputs": [
        {
          "output_type": "execute_result",
          "data": {
            "text/plain": [
              "['▁মধুপুর', 'ের', '▁খবর', '▁পেলে', '▁কীভাবে', '?', '▁স্বপ্নে']"
            ]
          },
          "metadata": {},
          "execution_count": 11
        }
      ]
    }
  ]
}