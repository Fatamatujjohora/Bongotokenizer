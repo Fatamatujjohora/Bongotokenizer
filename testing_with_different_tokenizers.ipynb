{
  "nbformat": 4,
  "nbformat_minor": 0,
  "metadata": {
    "colab": {
      "provenance": [],
      "toc_visible": true
    },
    "kernelspec": {
      "name": "python3",
      "display_name": "Python 3"
    },
    "language_info": {
      "name": "python"
    }
  },
  "cells": [
    {
      "cell_type": "markdown",
      "source": [
        "**Testing with ChatGPT tokenizer, tiktoken**\n",
        "\n",
        "---\n",
        "\n"
      ],
      "metadata": {
        "id": "xZ6ubdCg-4No"
      }
    },
    {
      "cell_type": "code",
      "source": [
        "pip install tiktoken"
      ],
      "metadata": {
        "id": "E_8PbUWo8Q0j"
      },
      "execution_count": null,
      "outputs": []
    },
    {
      "cell_type": "code",
      "source": [
        "import tiktoken\n",
        "enc = tiktoken.get_encoding(\"cl100k_base\")\n",
        "assert enc.decode(enc.encode(\"hello world\")) == \"hello world\"\n",
        "enc = tiktoken.encoding_for_model(\"gpt-4\")\n",
        "#[মনুষ্য, ত্বের, শিক্ষা, চরম, দুই, টা, ছেলে, ছিল]\n",
        "enc.decode(enc.encode(\"যৌবনের শেষে শুভ্র শরৎকাল ন্যায়\"))"
      ],
      "metadata": {
        "colab": {
          "base_uri": "https://localhost:8080/",
          "height": 35
        },
        "id": "ayvZf1ZRZoLw",
        "outputId": "208f5237-3240-488d-cd10-facb820fb21c"
      },
      "execution_count": null,
      "outputs": [
        {
          "output_type": "execute_result",
          "data": {
            "text/plain": [
              "'যৌবনের শেষে শুভ্র শরৎকাল ন্যায়'"
            ],
            "application/vnd.google.colaboratory.intrinsic+json": {
              "type": "string"
            }
          },
          "metadata": {},
          "execution_count": 23
        }
      ]
    },
    {
      "cell_type": "markdown",
      "source": [
        "`Testing with wellknow Setencepiece Tokenizer bnpl`"
      ],
      "metadata": {
        "id": "4GqLxNT_-nSJ"
      }
    },
    {
      "cell_type": "code",
      "source": [
        "!pip install bnlp-toolkit==4.0.0.dev4"
      ],
      "metadata": {
        "id": "LH-Ci193KqKI"
      },
      "execution_count": null,
      "outputs": []
    },
    {
      "cell_type": "code",
      "source": [
        "from bnlp import SentencepieceTokenizer\n",
        "\n",
        "bsp = SentencepieceTokenizer()\n",
        "\n",
        "input_text = \"যৌবনের শেষে শুভ্র শরৎকাল ন্যায়\"\n",
        "tokens = bsp.tokenize(input_text)\n",
        "print(tokens)"
      ],
      "metadata": {
        "colab": {
          "base_uri": "https://localhost:8080/"
        },
        "id": "-yMC9SScMVHQ",
        "outputId": "aae8672d-7291-4363-d11a-252d60dfc682"
      },
      "execution_count": null,
      "outputs": [
        {
          "output_type": "stream",
          "name": "stdout",
          "text": [
            "['▁যৌবন', 'ের', '▁শেষে', '▁শুভ্র', '▁শরৎকাল', '▁ন্যায়']\n"
          ]
        }
      ]
    },
    {
      "cell_type": "markdown",
      "source": [
        "bert tokenizer with training with bangla language"
      ],
      "metadata": {
        "id": "fcwcbxYpKHwo"
      }
    },
    {
      "cell_type": "code",
      "source": [
        "from transformers import AutoTokenizer, AutoModel\n",
        "\n",
        "bnbert_tokenizer = AutoTokenizer.from_pretrained(\"sagorsarker/bangla-bert-base\")\n",
        "#text = \"ঈশ্বর থাকেন ওই গ্রামে, ভদ্রপল্লীতে। এখানে তাঁহাদের খুঁজিয়া পাওয়া যাইবে না।\"\n",
        "text = 'মনুষ্যত্বের শিক্ষাটাই চরম শিক্ষা আর সমস্তই তার অধীন।'\n",
        "print(bnbert_tokenizer.tokenize(text))\n",
        "# ['আমি', 'বাংলা', '##য', 'গান', 'গাই', '।']\n"
      ],
      "metadata": {
        "colab": {
          "base_uri": "https://localhost:8080/"
        },
        "id": "ZlKtzi438p8b",
        "outputId": "44735d9c-7358-4bde-b28d-9f2d5b0bbfb1"
      },
      "execution_count": null,
      "outputs": [
        {
          "output_type": "stream",
          "name": "stdout",
          "text": [
            "['মন', '##ষ', '##যত', '##বের', 'শিক', '##ষা', '##টাই', 'চরম', 'শিক', '##ষা', 'আর', 'সমস', '##ত', '##ই', 'তার', 'অধীন', '।']\n"
          ]
        }
      ]
    }
  ]
}